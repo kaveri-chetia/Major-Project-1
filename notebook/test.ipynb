{
 "cells": [
  {
   "cell_type": "code",
   "execution_count": 1,
   "metadata": {},
   "outputs": [
    {
     "ename": "NameError",
     "evalue": "name 'merged_df2' is not defined",
     "output_type": "error",
     "traceback": [
      "\u001b[0;31m---------------------------------------------------------------------------\u001b[0m",
      "\u001b[0;31mNameError\u001b[0m                                 Traceback (most recent call last)",
      "Cell \u001b[0;32mIn[1], line 1\u001b[0m\n\u001b[0;32m----> 1\u001b[0m \u001b[38;5;28;01mfrom\u001b[39;00m \u001b[38;5;21;01mfunction\u001b[39;00m \u001b[38;5;28;01mimport\u001b[39;00m \u001b[38;5;241m*\u001b[39m\n\u001b[1;32m      3\u001b[0m merged_df2 \u001b[38;5;241m=\u001b[39m data_load(df1, df2, df3 )\n",
      "File \u001b[0;32m~/Desktop/Ironhack/Major-Project-1/notebook/function.py:323\u001b[0m\n\u001b[1;32m    319\u001b[0m     \u001b[38;5;28;01mreturn\u001b[39;00m test_df\n\u001b[1;32m    321\u001b[0m \u001b[38;5;66;03m# Usage example\u001b[39;00m\n\u001b[1;32m    322\u001b[0m \u001b[38;5;66;03m# Assuming merged_df2 is already defined and loaded with appropriate data\u001b[39;00m\n\u001b[0;32m--> 323\u001b[0m test_df \u001b[38;5;241m=\u001b[39m process_test_dataframe(\u001b[43mmerged_df2\u001b[49m)\n",
      "\u001b[0;31mNameError\u001b[0m: name 'merged_df2' is not defined"
     ]
    }
   ],
   "source": [
    "from function import *\n",
    "\n",
    "variation_path = \"df_final_experiment_clients.csv\"\n",
    "web_data_path = \"merged_df_final_web_data.csv\"\n",
    "demo_path = \"df_final_demo.csv\"\n",
    "\n",
    "\n",
    "merged_df2 = data_load(variation_path, web_data_path, demo_path)"
   ]
  }
 ],
 "metadata": {
  "kernelspec": {
   "display_name": "major_project",
   "language": "python",
   "name": "python3"
  },
  "language_info": {
   "codemirror_mode": {
    "name": "ipython",
    "version": 3
   },
   "file_extension": ".py",
   "mimetype": "text/x-python",
   "name": "python",
   "nbconvert_exporter": "python",
   "pygments_lexer": "ipython3",
   "version": "3.11.9"
  }
 },
 "nbformat": 4,
 "nbformat_minor": 2
}
