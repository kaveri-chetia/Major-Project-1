{
 "cells": [
  {
   "cell_type": "code",
   "execution_count": 1,
   "metadata": {},
   "outputs": [],
   "source": [
    "import pandas as pd\n",
    "import seaborn as sns\n",
    "import plotly.express as px\n",
    "import matplotlib.pyplot as plt\n",
    "import numpy as np\n",
    "from scipy.stats import chi2_contingency\n",
    "from scipy.stats.contingency import association\n",
    "from scipy.stats import ttest_ind\n",
    "from scipy import stats\n",
    "from statsmodels.stats.proportion import proportions_ztest"
   ]
  },
  {
   "cell_type": "code",
   "execution_count": 2,
   "metadata": {},
   "outputs": [],
   "source": [
    "\n",
    "        \n",
    "# Reading variation table and web_data table\n",
    "df1 = pd.read_csv(\"df_final_experiment_clients.csv\")\n",
    "df2 = pd.read_csv('merged_df_final_web_data.csv')\n",
    "df3 = pd.read_csv(\"df_final_demo.csv\")\n",
    "\n",
    "#Merging to merged_df_final\n",
    "merged_df1 = pd.merge(df1, df2, on='client_id', how='inner')\n",
    "\n",
    "# Merging customer_info with merged_df_final\n",
    "merged_df2 = pd.merge(merged_df1, df3, on='client_id', how='inner')\n",
    "merged_df2=merged_df2.dropna()\n"
   ]
  }
 ],
 "metadata": {
  "kernelspec": {
   "display_name": "project3",
   "language": "python",
   "name": "python3"
  },
  "language_info": {
   "codemirror_mode": {
    "name": "ipython",
    "version": 3
   },
   "file_extension": ".py",
   "mimetype": "text/x-python",
   "name": "python",
   "nbconvert_exporter": "python",
   "pygments_lexer": "ipython3",
   "version": "3.11.9"
  }
 },
 "nbformat": 4,
 "nbformat_minor": 2
}
